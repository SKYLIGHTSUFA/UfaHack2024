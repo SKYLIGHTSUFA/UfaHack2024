{
 "cells": [
  {
   "cell_type": "code",
   "execution_count": 2,
   "outputs": [],
   "source": [
    "from catboost import CatBoostClassifier\n",
    "import pandas as pd\n",
    "import pickle\n",
    "from sklearn.model_selection import train_test_split"
   ],
   "metadata": {
    "collapsed": false,
    "ExecuteTime": {
     "end_time": "2024-03-29T15:52:09.761101700Z",
     "start_time": "2024-03-29T15:51:56.199239Z"
    }
   }
  },
  {
   "cell_type": "code",
   "execution_count": 27,
   "outputs": [],
   "source": [
    "with open('actors_usa_embeddings.pkl', 'rb') as f:\n",
    "    dict_usa = pickle.load(f)"
   ],
   "metadata": {
    "collapsed": false,
    "ExecuteTime": {
     "end_time": "2024-03-29T18:30:36.800593700Z",
     "start_time": "2024-03-29T18:30:36.753716200Z"
    }
   }
  },
  {
   "cell_type": "code",
   "execution_count": 28,
   "outputs": [
    {
     "data": {
      "text/plain": "            0                                                  1\n0         1_1  [-1.5706723928451538, 0.6335924863815308, 1.53...\n1     10009_1  [0.5788402557373047, -0.5220502614974976, -1.7...\n2     10013_1  [-0.5845983028411865, 1.5863220691680908, -1.1...\n3     10013_2  [-0.41548410058021545, 1.5801037549972534, -0....\n4      1003_1  [-0.052914053201675415, -0.35606303811073303, ...\n...       ...                                                ...\n1051  13616_1  [0.6910120248794556, 1.2189278602600098, -1.64...\n1052  13616_2  [0.2329411804676056, 1.3537031412124634, -1.17...\n1053  13616_3  [0.8600691556930542, 1.441170573234558, -1.856...\n1054  13616_4  [1.2998018264770508, 2.4858486652374268, -1.51...\n1055  13631_2  [0.08967465162277222, 1.597952127456665, -1.96...\n\n[1056 rows x 2 columns]",
      "text/html": "<div>\n<style scoped>\n    .dataframe tbody tr th:only-of-type {\n        vertical-align: middle;\n    }\n\n    .dataframe tbody tr th {\n        vertical-align: top;\n    }\n\n    .dataframe thead th {\n        text-align: right;\n    }\n</style>\n<table border=\"1\" class=\"dataframe\">\n  <thead>\n    <tr style=\"text-align: right;\">\n      <th></th>\n      <th>0</th>\n      <th>1</th>\n    </tr>\n  </thead>\n  <tbody>\n    <tr>\n      <th>0</th>\n      <td>1_1</td>\n      <td>[-1.5706723928451538, 0.6335924863815308, 1.53...</td>\n    </tr>\n    <tr>\n      <th>1</th>\n      <td>10009_1</td>\n      <td>[0.5788402557373047, -0.5220502614974976, -1.7...</td>\n    </tr>\n    <tr>\n      <th>2</th>\n      <td>10013_1</td>\n      <td>[-0.5845983028411865, 1.5863220691680908, -1.1...</td>\n    </tr>\n    <tr>\n      <th>3</th>\n      <td>10013_2</td>\n      <td>[-0.41548410058021545, 1.5801037549972534, -0....</td>\n    </tr>\n    <tr>\n      <th>4</th>\n      <td>1003_1</td>\n      <td>[-0.052914053201675415, -0.35606303811073303, ...</td>\n    </tr>\n    <tr>\n      <th>...</th>\n      <td>...</td>\n      <td>...</td>\n    </tr>\n    <tr>\n      <th>1051</th>\n      <td>13616_1</td>\n      <td>[0.6910120248794556, 1.2189278602600098, -1.64...</td>\n    </tr>\n    <tr>\n      <th>1052</th>\n      <td>13616_2</td>\n      <td>[0.2329411804676056, 1.3537031412124634, -1.17...</td>\n    </tr>\n    <tr>\n      <th>1053</th>\n      <td>13616_3</td>\n      <td>[0.8600691556930542, 1.441170573234558, -1.856...</td>\n    </tr>\n    <tr>\n      <th>1054</th>\n      <td>13616_4</td>\n      <td>[1.2998018264770508, 2.4858486652374268, -1.51...</td>\n    </tr>\n    <tr>\n      <th>1055</th>\n      <td>13631_2</td>\n      <td>[0.08967465162277222, 1.597952127456665, -1.96...</td>\n    </tr>\n  </tbody>\n</table>\n<p>1056 rows × 2 columns</p>\n</div>"
     },
     "execution_count": 28,
     "metadata": {},
     "output_type": "execute_result"
    }
   ],
   "source": [
    "data_usa = pd.DataFrame.from_dict(dict_usa.items())\n",
    "data_usa"
   ],
   "metadata": {
    "collapsed": false,
    "ExecuteTime": {
     "end_time": "2024-03-29T18:30:39.592265600Z",
     "start_time": "2024-03-29T18:30:39.569341700Z"
    }
   }
  },
  {
   "cell_type": "code",
   "execution_count": 29,
   "outputs": [],
   "source": [
    "data_usa.rename(columns={0: \"id\", 1: \"embd\"}, inplace=True, errors=\"ignore\")"
   ],
   "metadata": {
    "collapsed": false,
    "ExecuteTime": {
     "end_time": "2024-03-29T18:30:43.890527400Z",
     "start_time": "2024-03-29T18:30:43.859276Z"
    }
   }
  },
  {
   "cell_type": "code",
   "execution_count": 30,
   "outputs": [
    {
     "data": {
      "text/plain": "           id                                               embd\n0         1_1  [-1.5706723928451538, 0.6335924863815308, 1.53...\n1     10009_1  [0.5788402557373047, -0.5220502614974976, -1.7...\n2     10013_1  [-0.5845983028411865, 1.5863220691680908, -1.1...\n3     10013_2  [-0.41548410058021545, 1.5801037549972534, -0....\n4      1003_1  [-0.052914053201675415, -0.35606303811073303, ...\n...       ...                                                ...\n1051  13616_1  [0.6910120248794556, 1.2189278602600098, -1.64...\n1052  13616_2  [0.2329411804676056, 1.3537031412124634, -1.17...\n1053  13616_3  [0.8600691556930542, 1.441170573234558, -1.856...\n1054  13616_4  [1.2998018264770508, 2.4858486652374268, -1.51...\n1055  13631_2  [0.08967465162277222, 1.597952127456665, -1.96...\n\n[1056 rows x 2 columns]",
      "text/html": "<div>\n<style scoped>\n    .dataframe tbody tr th:only-of-type {\n        vertical-align: middle;\n    }\n\n    .dataframe tbody tr th {\n        vertical-align: top;\n    }\n\n    .dataframe thead th {\n        text-align: right;\n    }\n</style>\n<table border=\"1\" class=\"dataframe\">\n  <thead>\n    <tr style=\"text-align: right;\">\n      <th></th>\n      <th>id</th>\n      <th>embd</th>\n    </tr>\n  </thead>\n  <tbody>\n    <tr>\n      <th>0</th>\n      <td>1_1</td>\n      <td>[-1.5706723928451538, 0.6335924863815308, 1.53...</td>\n    </tr>\n    <tr>\n      <th>1</th>\n      <td>10009_1</td>\n      <td>[0.5788402557373047, -0.5220502614974976, -1.7...</td>\n    </tr>\n    <tr>\n      <th>2</th>\n      <td>10013_1</td>\n      <td>[-0.5845983028411865, 1.5863220691680908, -1.1...</td>\n    </tr>\n    <tr>\n      <th>3</th>\n      <td>10013_2</td>\n      <td>[-0.41548410058021545, 1.5801037549972534, -0....</td>\n    </tr>\n    <tr>\n      <th>4</th>\n      <td>1003_1</td>\n      <td>[-0.052914053201675415, -0.35606303811073303, ...</td>\n    </tr>\n    <tr>\n      <th>...</th>\n      <td>...</td>\n      <td>...</td>\n    </tr>\n    <tr>\n      <th>1051</th>\n      <td>13616_1</td>\n      <td>[0.6910120248794556, 1.2189278602600098, -1.64...</td>\n    </tr>\n    <tr>\n      <th>1052</th>\n      <td>13616_2</td>\n      <td>[0.2329411804676056, 1.3537031412124634, -1.17...</td>\n    </tr>\n    <tr>\n      <th>1053</th>\n      <td>13616_3</td>\n      <td>[0.8600691556930542, 1.441170573234558, -1.856...</td>\n    </tr>\n    <tr>\n      <th>1054</th>\n      <td>13616_4</td>\n      <td>[1.2998018264770508, 2.4858486652374268, -1.51...</td>\n    </tr>\n    <tr>\n      <th>1055</th>\n      <td>13631_2</td>\n      <td>[0.08967465162277222, 1.597952127456665, -1.96...</td>\n    </tr>\n  </tbody>\n</table>\n<p>1056 rows × 2 columns</p>\n</div>"
     },
     "execution_count": 30,
     "metadata": {},
     "output_type": "execute_result"
    }
   ],
   "source": [
    "data_usa"
   ],
   "metadata": {
    "collapsed": false,
    "ExecuteTime": {
     "end_time": "2024-03-29T18:30:45.270827700Z",
     "start_time": "2024-03-29T18:30:45.243534900Z"
    }
   }
  },
  {
   "cell_type": "code",
   "execution_count": 31,
   "outputs": [
    {
     "data": {
      "text/plain": "           id         0         1         2         3         4         5  \\\n0         1_1 -1.570672  0.633592  1.539401 -0.443073  1.144602 -0.819344   \n1     10009_1  0.578840 -0.522050 -1.722523 -0.849324  0.872231  0.697576   \n2     10013_1 -0.584598  1.586322 -1.155406 -1.400013 -1.503451 -0.089089   \n3     10013_2 -0.415484  1.580104 -0.833656 -0.852378 -1.105216 -0.190370   \n4      1003_1 -0.052914 -0.356063 -0.832296 -0.387270  0.796773 -0.258821   \n...       ...       ...       ...       ...       ...       ...       ...   \n1051  13616_1  0.691012  1.218928 -1.645177 -0.200526  1.032170 -0.010177   \n1052  13616_2  0.232941  1.353703 -1.175303  0.109807  1.326917 -0.320142   \n1053  13616_3  0.860069  1.441171 -1.856320 -0.822068  2.987537 -0.414389   \n1054  13616_4  1.299802  2.485849 -1.519942 -1.161255  1.662391  0.192611   \n1055  13631_2  0.089675  1.597952 -1.962265 -2.278883  0.774878 -1.617782   \n\n             6         7         8  ...       118       119       120  \\\n0     2.068340 -1.029341 -1.676797  ...  1.457394 -0.088586  1.581023   \n1    -1.690455  3.806507  0.681398  ...  0.730348 -1.359728 -1.243532   \n2    -0.447129 -1.302794 -0.083066  ...  0.953941  0.069133  0.304748   \n3    -0.418510 -1.473158  0.411066  ...  1.337585 -0.197534  0.382660   \n4    -0.461007  0.343941  0.571979  ...  0.492704  1.220060  0.774966   \n...        ...       ...       ...  ...       ...       ...       ...   \n1051 -0.753952  0.626138  1.611161  ... -0.331170 -0.605570  1.232265   \n1052 -0.360853  0.236935  1.272749  ... -0.093058 -0.735331  1.791282   \n1053 -0.009051  1.364074  0.779438  ...  0.194024 -1.225692  0.427923   \n1054 -0.043378  1.498528  0.937637  ...  1.762125 -0.648232  0.858571   \n1055 -0.833502  1.292249 -0.641687  ...  0.419192  1.590851 -1.200108   \n\n           121       122       123       124       125       126       127  \n0    -1.279289 -0.174264 -1.437022  0.825406  0.065602  0.862288  0.475075  \n1    -0.721210  0.133973  1.686131 -0.457207 -0.259445  0.367829 -1.191762  \n2     0.323025  1.243084 -0.399308  0.769429 -1.011941 -0.092408  0.252634  \n3     0.953445  0.843356 -0.828000  1.240614 -0.750917  0.343088  0.759789  \n4    -0.848771  0.852844 -0.558431  0.560696 -1.167510  1.353986 -0.561515  \n...        ...       ...       ...       ...       ...       ...       ...  \n1051 -0.853597 -0.000137  1.154459 -1.125317 -1.453662 -0.933203  2.152028  \n1052 -0.932450 -0.078320  0.398722 -2.315437 -1.291452 -0.972061  1.980307  \n1053  0.216618  0.209311  0.205166 -2.612580 -0.337485 -1.237361  0.451241  \n1054 -0.705204 -0.280197  0.615498 -1.899799 -1.392390 -1.029162  1.198919  \n1055  1.717416 -1.234612  0.177451 -0.677651  0.334710  0.589466  0.305988  \n\n[1056 rows x 129 columns]",
      "text/html": "<div>\n<style scoped>\n    .dataframe tbody tr th:only-of-type {\n        vertical-align: middle;\n    }\n\n    .dataframe tbody tr th {\n        vertical-align: top;\n    }\n\n    .dataframe thead th {\n        text-align: right;\n    }\n</style>\n<table border=\"1\" class=\"dataframe\">\n  <thead>\n    <tr style=\"text-align: right;\">\n      <th></th>\n      <th>id</th>\n      <th>0</th>\n      <th>1</th>\n      <th>2</th>\n      <th>3</th>\n      <th>4</th>\n      <th>5</th>\n      <th>6</th>\n      <th>7</th>\n      <th>8</th>\n      <th>...</th>\n      <th>118</th>\n      <th>119</th>\n      <th>120</th>\n      <th>121</th>\n      <th>122</th>\n      <th>123</th>\n      <th>124</th>\n      <th>125</th>\n      <th>126</th>\n      <th>127</th>\n    </tr>\n  </thead>\n  <tbody>\n    <tr>\n      <th>0</th>\n      <td>1_1</td>\n      <td>-1.570672</td>\n      <td>0.633592</td>\n      <td>1.539401</td>\n      <td>-0.443073</td>\n      <td>1.144602</td>\n      <td>-0.819344</td>\n      <td>2.068340</td>\n      <td>-1.029341</td>\n      <td>-1.676797</td>\n      <td>...</td>\n      <td>1.457394</td>\n      <td>-0.088586</td>\n      <td>1.581023</td>\n      <td>-1.279289</td>\n      <td>-0.174264</td>\n      <td>-1.437022</td>\n      <td>0.825406</td>\n      <td>0.065602</td>\n      <td>0.862288</td>\n      <td>0.475075</td>\n    </tr>\n    <tr>\n      <th>1</th>\n      <td>10009_1</td>\n      <td>0.578840</td>\n      <td>-0.522050</td>\n      <td>-1.722523</td>\n      <td>-0.849324</td>\n      <td>0.872231</td>\n      <td>0.697576</td>\n      <td>-1.690455</td>\n      <td>3.806507</td>\n      <td>0.681398</td>\n      <td>...</td>\n      <td>0.730348</td>\n      <td>-1.359728</td>\n      <td>-1.243532</td>\n      <td>-0.721210</td>\n      <td>0.133973</td>\n      <td>1.686131</td>\n      <td>-0.457207</td>\n      <td>-0.259445</td>\n      <td>0.367829</td>\n      <td>-1.191762</td>\n    </tr>\n    <tr>\n      <th>2</th>\n      <td>10013_1</td>\n      <td>-0.584598</td>\n      <td>1.586322</td>\n      <td>-1.155406</td>\n      <td>-1.400013</td>\n      <td>-1.503451</td>\n      <td>-0.089089</td>\n      <td>-0.447129</td>\n      <td>-1.302794</td>\n      <td>-0.083066</td>\n      <td>...</td>\n      <td>0.953941</td>\n      <td>0.069133</td>\n      <td>0.304748</td>\n      <td>0.323025</td>\n      <td>1.243084</td>\n      <td>-0.399308</td>\n      <td>0.769429</td>\n      <td>-1.011941</td>\n      <td>-0.092408</td>\n      <td>0.252634</td>\n    </tr>\n    <tr>\n      <th>3</th>\n      <td>10013_2</td>\n      <td>-0.415484</td>\n      <td>1.580104</td>\n      <td>-0.833656</td>\n      <td>-0.852378</td>\n      <td>-1.105216</td>\n      <td>-0.190370</td>\n      <td>-0.418510</td>\n      <td>-1.473158</td>\n      <td>0.411066</td>\n      <td>...</td>\n      <td>1.337585</td>\n      <td>-0.197534</td>\n      <td>0.382660</td>\n      <td>0.953445</td>\n      <td>0.843356</td>\n      <td>-0.828000</td>\n      <td>1.240614</td>\n      <td>-0.750917</td>\n      <td>0.343088</td>\n      <td>0.759789</td>\n    </tr>\n    <tr>\n      <th>4</th>\n      <td>1003_1</td>\n      <td>-0.052914</td>\n      <td>-0.356063</td>\n      <td>-0.832296</td>\n      <td>-0.387270</td>\n      <td>0.796773</td>\n      <td>-0.258821</td>\n      <td>-0.461007</td>\n      <td>0.343941</td>\n      <td>0.571979</td>\n      <td>...</td>\n      <td>0.492704</td>\n      <td>1.220060</td>\n      <td>0.774966</td>\n      <td>-0.848771</td>\n      <td>0.852844</td>\n      <td>-0.558431</td>\n      <td>0.560696</td>\n      <td>-1.167510</td>\n      <td>1.353986</td>\n      <td>-0.561515</td>\n    </tr>\n    <tr>\n      <th>...</th>\n      <td>...</td>\n      <td>...</td>\n      <td>...</td>\n      <td>...</td>\n      <td>...</td>\n      <td>...</td>\n      <td>...</td>\n      <td>...</td>\n      <td>...</td>\n      <td>...</td>\n      <td>...</td>\n      <td>...</td>\n      <td>...</td>\n      <td>...</td>\n      <td>...</td>\n      <td>...</td>\n      <td>...</td>\n      <td>...</td>\n      <td>...</td>\n      <td>...</td>\n      <td>...</td>\n    </tr>\n    <tr>\n      <th>1051</th>\n      <td>13616_1</td>\n      <td>0.691012</td>\n      <td>1.218928</td>\n      <td>-1.645177</td>\n      <td>-0.200526</td>\n      <td>1.032170</td>\n      <td>-0.010177</td>\n      <td>-0.753952</td>\n      <td>0.626138</td>\n      <td>1.611161</td>\n      <td>...</td>\n      <td>-0.331170</td>\n      <td>-0.605570</td>\n      <td>1.232265</td>\n      <td>-0.853597</td>\n      <td>-0.000137</td>\n      <td>1.154459</td>\n      <td>-1.125317</td>\n      <td>-1.453662</td>\n      <td>-0.933203</td>\n      <td>2.152028</td>\n    </tr>\n    <tr>\n      <th>1052</th>\n      <td>13616_2</td>\n      <td>0.232941</td>\n      <td>1.353703</td>\n      <td>-1.175303</td>\n      <td>0.109807</td>\n      <td>1.326917</td>\n      <td>-0.320142</td>\n      <td>-0.360853</td>\n      <td>0.236935</td>\n      <td>1.272749</td>\n      <td>...</td>\n      <td>-0.093058</td>\n      <td>-0.735331</td>\n      <td>1.791282</td>\n      <td>-0.932450</td>\n      <td>-0.078320</td>\n      <td>0.398722</td>\n      <td>-2.315437</td>\n      <td>-1.291452</td>\n      <td>-0.972061</td>\n      <td>1.980307</td>\n    </tr>\n    <tr>\n      <th>1053</th>\n      <td>13616_3</td>\n      <td>0.860069</td>\n      <td>1.441171</td>\n      <td>-1.856320</td>\n      <td>-0.822068</td>\n      <td>2.987537</td>\n      <td>-0.414389</td>\n      <td>-0.009051</td>\n      <td>1.364074</td>\n      <td>0.779438</td>\n      <td>...</td>\n      <td>0.194024</td>\n      <td>-1.225692</td>\n      <td>0.427923</td>\n      <td>0.216618</td>\n      <td>0.209311</td>\n      <td>0.205166</td>\n      <td>-2.612580</td>\n      <td>-0.337485</td>\n      <td>-1.237361</td>\n      <td>0.451241</td>\n    </tr>\n    <tr>\n      <th>1054</th>\n      <td>13616_4</td>\n      <td>1.299802</td>\n      <td>2.485849</td>\n      <td>-1.519942</td>\n      <td>-1.161255</td>\n      <td>1.662391</td>\n      <td>0.192611</td>\n      <td>-0.043378</td>\n      <td>1.498528</td>\n      <td>0.937637</td>\n      <td>...</td>\n      <td>1.762125</td>\n      <td>-0.648232</td>\n      <td>0.858571</td>\n      <td>-0.705204</td>\n      <td>-0.280197</td>\n      <td>0.615498</td>\n      <td>-1.899799</td>\n      <td>-1.392390</td>\n      <td>-1.029162</td>\n      <td>1.198919</td>\n    </tr>\n    <tr>\n      <th>1055</th>\n      <td>13631_2</td>\n      <td>0.089675</td>\n      <td>1.597952</td>\n      <td>-1.962265</td>\n      <td>-2.278883</td>\n      <td>0.774878</td>\n      <td>-1.617782</td>\n      <td>-0.833502</td>\n      <td>1.292249</td>\n      <td>-0.641687</td>\n      <td>...</td>\n      <td>0.419192</td>\n      <td>1.590851</td>\n      <td>-1.200108</td>\n      <td>1.717416</td>\n      <td>-1.234612</td>\n      <td>0.177451</td>\n      <td>-0.677651</td>\n      <td>0.334710</td>\n      <td>0.589466</td>\n      <td>0.305988</td>\n    </tr>\n  </tbody>\n</table>\n<p>1056 rows × 129 columns</p>\n</div>"
     },
     "execution_count": 31,
     "metadata": {},
     "output_type": "execute_result"
    }
   ],
   "source": [
    "new_cols = pd.DataFrame(data_usa['embd'].apply(pd.Series))\n",
    "df_usa = pd.concat([data_usa, new_cols], axis=1)\n",
    "df_usa.drop([\"embd\"], axis=1, inplace=True, errors=\"ignore\")\n",
    "df_usa"
   ],
   "metadata": {
    "collapsed": false,
    "ExecuteTime": {
     "end_time": "2024-03-29T18:30:49.465033800Z",
     "start_time": "2024-03-29T18:30:49.271020400Z"
    }
   }
  },
  {
   "cell_type": "code",
   "execution_count": 32,
   "outputs": [],
   "source": [
    "df_usa[\"id\"] = df_usa[\"id\"].apply(lambda x: str(x)[:str(x).find(\"_\")])"
   ],
   "metadata": {
    "collapsed": false,
    "ExecuteTime": {
     "end_time": "2024-03-29T18:30:52.716203400Z",
     "start_time": "2024-03-29T18:30:52.692504100Z"
    }
   }
  },
  {
   "cell_type": "code",
   "execution_count": 34,
   "outputs": [],
   "source": [
    "df_usa[\"id\"] = df_usa[\"id\"].astype(int)\n",
    "y, X = df_usa[\"id\"], df_usa.drop([\"id\"], axis=1)\n",
    "X_train, X_test, y_train, y_test = train_test_split(X, y, test_size=0.01, random_state=1)"
   ],
   "metadata": {
    "collapsed": false,
    "ExecuteTime": {
     "end_time": "2024-03-29T18:30:57.870505500Z",
     "start_time": "2024-03-29T18:30:57.845736100Z"
    }
   }
  },
  {
   "cell_type": "code",
   "execution_count": 39,
   "outputs": [
    {
     "data": {
      "text/plain": "id\n13078    4\n10593    4\n10766    4\n13209    4\n1320     4\n        ..\n12114    1\n12143    1\n12151    1\n12163    1\n13631    1\nName: count, Length: 457, dtype: int64"
     },
     "execution_count": 39,
     "metadata": {},
     "output_type": "execute_result"
    }
   ],
   "source": [
    "y.value_counts()"
   ],
   "metadata": {
    "collapsed": false,
    "ExecuteTime": {
     "end_time": "2024-03-29T18:40:33.247010800Z",
     "start_time": "2024-03-29T18:40:33.123293900Z"
    }
   }
  },
  {
   "cell_type": "code",
   "execution_count": 24,
   "outputs": [
    {
     "data": {
      "text/plain": "[]"
     },
     "execution_count": 24,
     "metadata": {},
     "output_type": "execute_result"
    }
   ],
   "source": [
    "cat_features = [col for col in df_usa.columns if df_usa[col].dtype.name == 'category' or df_usa[col].dtype.name == 'object']\n",
    "cat_features"
   ],
   "metadata": {
    "collapsed": false,
    "ExecuteTime": {
     "end_time": "2024-03-29T17:08:02.745660400Z",
     "start_time": "2024-03-29T17:08:02.735557900Z"
    }
   }
  },
  {
   "cell_type": "code",
   "execution_count": 25,
   "outputs": [
    {
     "data": {
      "text/plain": "MetricVisualizer(layout=Layout(align_self='stretch', height='500px'))",
      "application/vnd.jupyter.widget-view+json": {
       "version_major": 2,
       "version_minor": 0,
       "model_id": "2f8ef01d3ad3469ba13c90ed7dcc9b43"
      }
     },
     "metadata": {},
     "output_type": "display_data"
    },
    {
     "name": "stdout",
     "output_type": "stream",
     "text": [
      "Learning rate set to 0.185024\n",
      "0:\tlearn: 6.0784997\ttest: 6.1433807\tbest: 6.1433807 (0)\ttotal: 2.35s\tremaining: 11m 43s\n",
      "1:\tlearn: 5.9910635\ttest: 6.1084452\tbest: 6.1084452 (1)\ttotal: 4.87s\tremaining: 12m 5s\n",
      "2:\tlearn: 5.8984368\ttest: 6.0727539\tbest: 6.0727539 (2)\ttotal: 7.29s\tremaining: 12m 1s\n",
      "3:\tlearn: 5.8057325\ttest: 6.0476334\tbest: 6.0476334 (3)\ttotal: 9.36s\tremaining: 11m 32s\n",
      "4:\tlearn: 5.7158628\ttest: 6.0047780\tbest: 6.0047780 (4)\ttotal: 11.5s\tremaining: 11m 21s\n",
      "5:\tlearn: 5.6240899\ttest: 5.9781342\tbest: 5.9781342 (5)\ttotal: 13.9s\tremaining: 11m 19s\n",
      "6:\tlearn: 5.5320867\ttest: 5.9263351\tbest: 5.9263351 (6)\ttotal: 16.1s\tremaining: 11m 14s\n",
      "7:\tlearn: 5.5121678\ttest: 5.9146790\tbest: 5.9146790 (7)\ttotal: 16.4s\tremaining: 9m 58s\n",
      "8:\tlearn: 5.4277463\ttest: 5.8509918\tbest: 5.8509918 (8)\ttotal: 18.5s\tremaining: 9m 58s\n",
      "9:\tlearn: 5.3415770\ttest: 5.8210129\tbest: 5.8210129 (9)\ttotal: 20.7s\tremaining: 10m\n",
      "10:\tlearn: 5.2492825\ttest: 5.7737183\tbest: 5.7737183 (10)\ttotal: 22s\tremaining: 9m 37s\n",
      "11:\tlearn: 5.1631285\ttest: 5.7284953\tbest: 5.7284953 (11)\ttotal: 23.3s\tremaining: 9m 20s\n",
      "12:\tlearn: 5.0751767\ttest: 5.6733948\tbest: 5.6733948 (12)\ttotal: 24.5s\tremaining: 9m 1s\n",
      "13:\tlearn: 4.9856146\ttest: 5.6309850\tbest: 5.6309850 (13)\ttotal: 25.7s\tremaining: 8m 45s\n",
      "14:\tlearn: 4.8978781\ttest: 5.6149078\tbest: 5.6149078 (14)\ttotal: 26.9s\tremaining: 8m 30s\n",
      "15:\tlearn: 4.8156413\ttest: 5.5612625\tbest: 5.5612625 (15)\ttotal: 28.1s\tremaining: 8m 18s\n",
      "16:\tlearn: 4.7319675\ttest: 5.5175181\tbest: 5.5175181 (16)\ttotal: 29.4s\tremaining: 8m 8s\n",
      "17:\tlearn: 4.6593926\ttest: 5.4840571\tbest: 5.4840571 (17)\ttotal: 30.5s\tremaining: 7m 58s\n",
      "18:\tlearn: 4.5787229\ttest: 5.4402802\tbest: 5.4402802 (18)\ttotal: 31.7s\tremaining: 7m 48s\n",
      "19:\tlearn: 4.4907160\ttest: 5.4152125\tbest: 5.4152125 (19)\ttotal: 32.9s\tremaining: 7m 40s\n",
      "20:\tlearn: 4.4052203\ttest: 5.3817332\tbest: 5.3817332 (20)\ttotal: 34.1s\tremaining: 7m 32s\n",
      "21:\tlearn: 4.3219876\ttest: 5.3373820\tbest: 5.3373820 (21)\ttotal: 35.4s\tremaining: 7m 26s\n",
      "22:\tlearn: 4.2420161\ttest: 5.2880178\tbest: 5.2880178 (22)\ttotal: 36.6s\tremaining: 7m 20s\n",
      "23:\tlearn: 4.1608379\ttest: 5.2396993\tbest: 5.2396993 (23)\ttotal: 37.7s\tremaining: 7m 13s\n",
      "24:\tlearn: 4.0805923\ttest: 5.2040298\tbest: 5.2040298 (24)\ttotal: 38.9s\tremaining: 7m 7s\n",
      "25:\tlearn: 4.0007839\ttest: 5.1598663\tbest: 5.1598663 (25)\ttotal: 40.2s\tremaining: 7m 3s\n",
      "26:\tlearn: 3.9255511\ttest: 5.1133169\tbest: 5.1133169 (26)\ttotal: 41.5s\tremaining: 6m 59s\n",
      "27:\tlearn: 3.8538269\ttest: 5.0867518\tbest: 5.0867518 (27)\ttotal: 42.8s\tremaining: 6m 55s\n",
      "28:\tlearn: 3.7818685\ttest: 5.0266500\tbest: 5.0266500 (28)\ttotal: 43.9s\tremaining: 6m 50s\n",
      "29:\tlearn: 3.7069801\ttest: 5.0114441\tbest: 5.0114441 (29)\ttotal: 45.2s\tremaining: 6m 46s\n",
      "30:\tlearn: 3.6382706\ttest: 4.9597992\tbest: 4.9597992 (30)\ttotal: 46.3s\tremaining: 6m 41s\n",
      "31:\tlearn: 3.5615131\ttest: 4.9208328\tbest: 4.9208328 (31)\ttotal: 47.5s\tremaining: 6m 37s\n",
      "32:\tlearn: 3.4859040\ttest: 4.8779531\tbest: 4.8779531 (32)\ttotal: 48.6s\tremaining: 6m 33s\n",
      "33:\tlearn: 3.4185298\ttest: 4.8498103\tbest: 4.8498103 (33)\ttotal: 49.8s\tremaining: 6m 29s\n",
      "34:\tlearn: 3.3444067\ttest: 4.8153386\tbest: 4.8153386 (34)\ttotal: 51s\tremaining: 6m 26s\n",
      "35:\tlearn: 3.2735936\ttest: 4.7766815\tbest: 4.7766815 (35)\ttotal: 52.3s\tremaining: 6m 23s\n",
      "36:\tlearn: 3.2040863\ttest: 4.7235006\tbest: 4.7235006 (36)\ttotal: 53.7s\tremaining: 6m 21s\n",
      "37:\tlearn: 3.1379644\ttest: 4.7010030\tbest: 4.7010030 (37)\ttotal: 54.9s\tremaining: 6m 18s\n",
      "38:\tlearn: 3.0709210\ttest: 4.6795237\tbest: 4.6795237 (38)\ttotal: 56.1s\tremaining: 6m 15s\n",
      "39:\tlearn: 3.0039365\ttest: 4.6355535\tbest: 4.6355535 (39)\ttotal: 57.3s\tremaining: 6m 12s\n",
      "40:\tlearn: 2.9383490\ttest: 4.6026723\tbest: 4.6026723 (40)\ttotal: 58.6s\tremaining: 6m 10s\n",
      "41:\tlearn: 2.8737903\ttest: 4.5671906\tbest: 4.5671906 (41)\ttotal: 59.8s\tremaining: 6m 7s\n",
      "42:\tlearn: 2.8080188\ttest: 4.5525731\tbest: 4.5525731 (42)\ttotal: 1m 1s\tremaining: 6m 5s\n",
      "43:\tlearn: 2.7462077\ttest: 4.5130310\tbest: 4.5130310 (43)\ttotal: 1m 2s\tremaining: 6m 3s\n",
      "44:\tlearn: 2.6851551\ttest: 4.4735845\tbest: 4.4735845 (44)\ttotal: 1m 3s\tremaining: 6m\n",
      "45:\tlearn: 2.6241649\ttest: 4.4433533\tbest: 4.4433533 (45)\ttotal: 1m 4s\tremaining: 5m 57s\n",
      "46:\tlearn: 2.5639366\ttest: 4.4178904\tbest: 4.4178904 (46)\ttotal: 1m 6s\tremaining: 5m 55s\n",
      "47:\tlearn: 2.5067896\ttest: 4.3975774\tbest: 4.3975774 (47)\ttotal: 1m 7s\tremaining: 5m 53s\n",
      "48:\tlearn: 2.4538681\ttest: 4.3666336\tbest: 4.3666336 (48)\ttotal: 1m 8s\tremaining: 5m 51s\n",
      "49:\tlearn: 2.3986265\ttest: 4.3355123\tbest: 4.3355123 (49)\ttotal: 1m 10s\tremaining: 5m 49s\n",
      "50:\tlearn: 2.3446018\ttest: 4.3332296\tbest: 4.3332296 (50)\ttotal: 1m 11s\tremaining: 5m 47s\n",
      "51:\tlearn: 2.2861106\ttest: 4.3116740\tbest: 4.3116740 (51)\ttotal: 1m 12s\tremaining: 5m 45s\n",
      "52:\tlearn: 2.2328525\ttest: 4.3072728\tbest: 4.3072728 (52)\ttotal: 1m 13s\tremaining: 5m 43s\n",
      "53:\tlearn: 2.1842162\ttest: 4.2899190\tbest: 4.2899190 (53)\ttotal: 1m 14s\tremaining: 5m 40s\n",
      "54:\tlearn: 2.1396860\ttest: 4.2635773\tbest: 4.2635773 (54)\ttotal: 1m 15s\tremaining: 5m 38s\n",
      "55:\tlearn: 2.0905466\ttest: 4.2227315\tbest: 4.2227315 (55)\ttotal: 1m 17s\tremaining: 5m 36s\n",
      "56:\tlearn: 2.0419869\ttest: 4.1879898\tbest: 4.1879898 (56)\ttotal: 1m 18s\tremaining: 5m 33s\n",
      "57:\tlearn: 1.9987320\ttest: 4.1525574\tbest: 4.1525574 (57)\ttotal: 1m 19s\tremaining: 5m 31s\n",
      "58:\tlearn: 1.9531243\ttest: 4.1342023\tbest: 4.1342023 (58)\ttotal: 1m 20s\tremaining: 5m 30s\n",
      "59:\tlearn: 1.9056501\ttest: 4.1110240\tbest: 4.1110240 (59)\ttotal: 1m 22s\tremaining: 5m 28s\n",
      "60:\tlearn: 1.8657994\ttest: 4.0953285\tbest: 4.0953285 (60)\ttotal: 1m 23s\tremaining: 5m 25s\n",
      "61:\tlearn: 1.8243551\ttest: 4.0813792\tbest: 4.0813792 (61)\ttotal: 1m 24s\tremaining: 5m 23s\n",
      "62:\tlearn: 1.7809334\ttest: 4.0727074\tbest: 4.0727074 (62)\ttotal: 1m 25s\tremaining: 5m 21s\n",
      "63:\tlearn: 1.7393319\ttest: 4.0459826\tbest: 4.0459826 (63)\ttotal: 1m 26s\tremaining: 5m 19s\n",
      "64:\tlearn: 1.6998490\ttest: 4.0277517\tbest: 4.0277517 (64)\ttotal: 1m 28s\tremaining: 5m 18s\n",
      "65:\tlearn: 1.6625649\ttest: 4.0219477\tbest: 4.0219477 (65)\ttotal: 1m 29s\tremaining: 5m 16s\n",
      "66:\tlearn: 1.6250331\ttest: 4.0043874\tbest: 4.0043874 (66)\ttotal: 1m 30s\tremaining: 5m 14s\n",
      "67:\tlearn: 1.5874199\ttest: 3.9934575\tbest: 3.9934575 (67)\ttotal: 1m 31s\tremaining: 5m 13s\n",
      "68:\tlearn: 1.5491425\ttest: 3.9758647\tbest: 3.9758647 (68)\ttotal: 1m 33s\tremaining: 5m 11s\n",
      "69:\tlearn: 1.5127327\ttest: 3.9472862\tbest: 3.9472862 (69)\ttotal: 1m 34s\tremaining: 5m 9s\n",
      "70:\tlearn: 1.4777435\ttest: 3.9355334\tbest: 3.9355334 (70)\ttotal: 1m 35s\tremaining: 5m 8s\n",
      "71:\tlearn: 1.4413622\ttest: 3.9174815\tbest: 3.9174815 (71)\ttotal: 1m 36s\tremaining: 5m 6s\n",
      "72:\tlearn: 1.4096054\ttest: 3.8972992\tbest: 3.8972992 (72)\ttotal: 1m 37s\tremaining: 5m 4s\n",
      "73:\tlearn: 1.3761202\ttest: 3.8763499\tbest: 3.8763499 (73)\ttotal: 1m 39s\tremaining: 5m 2s\n",
      "74:\tlearn: 1.3462455\ttest: 3.8373062\tbest: 3.8373062 (74)\ttotal: 1m 40s\tremaining: 5m\n",
      "75:\tlearn: 1.3197731\ttest: 3.8176537\tbest: 3.8176537 (75)\ttotal: 1m 41s\tremaining: 4m 59s\n",
      "76:\tlearn: 1.2882575\ttest: 3.7995501\tbest: 3.7995501 (76)\ttotal: 1m 42s\tremaining: 4m 57s\n",
      "77:\tlearn: 1.2591927\ttest: 3.7776555\tbest: 3.7776555 (77)\ttotal: 1m 43s\tremaining: 4m 55s\n",
      "78:\tlearn: 1.2305810\ttest: 3.7544545\tbest: 3.7544545 (78)\ttotal: 1m 44s\tremaining: 4m 53s\n",
      "79:\tlearn: 1.2066412\ttest: 3.7386561\tbest: 3.7386561 (79)\ttotal: 1m 46s\tremaining: 4m 51s\n",
      "80:\tlearn: 1.1825994\ttest: 3.7253298\tbest: 3.7253298 (80)\ttotal: 1m 47s\tremaining: 4m 49s\n",
      "81:\tlearn: 1.1569464\ttest: 3.6922796\tbest: 3.6922796 (81)\ttotal: 1m 48s\tremaining: 4m 48s\n",
      "82:\tlearn: 1.1338915\ttest: 3.6659922\tbest: 3.6659922 (82)\ttotal: 1m 49s\tremaining: 4m 45s\n",
      "83:\tlearn: 1.1119852\ttest: 3.6367154\tbest: 3.6367154 (83)\ttotal: 1m 50s\tremaining: 4m 43s\n",
      "84:\tlearn: 1.0879619\ttest: 3.6156316\tbest: 3.6156316 (84)\ttotal: 1m 51s\tremaining: 4m 42s\n",
      "85:\tlearn: 1.0662683\ttest: 3.5871885\tbest: 3.5871885 (85)\ttotal: 1m 52s\tremaining: 4m 40s\n",
      "86:\tlearn: 1.0451274\ttest: 3.5736521\tbest: 3.5736521 (86)\ttotal: 1m 53s\tremaining: 4m 38s\n",
      "87:\tlearn: 1.0234508\ttest: 3.5625234\tbest: 3.5625234 (87)\ttotal: 1m 54s\tremaining: 4m 36s\n",
      "88:\tlearn: 1.0020534\ttest: 3.5495534\tbest: 3.5495534 (88)\ttotal: 1m 55s\tremaining: 4m 34s\n",
      "89:\tlearn: 0.9796275\ttest: 3.5205246\tbest: 3.5205246 (89)\ttotal: 1m 57s\tremaining: 4m 33s\n",
      "90:\tlearn: 0.9594051\ttest: 3.5091059\tbest: 3.5091059 (90)\ttotal: 1m 58s\tremaining: 4m 31s\n",
      "91:\tlearn: 0.9394349\ttest: 3.4906398\tbest: 3.4906398 (91)\ttotal: 1m 59s\tremaining: 4m 30s\n",
      "92:\tlearn: 0.9193775\ttest: 3.4833733\tbest: 3.4833733 (92)\ttotal: 2m\tremaining: 4m 28s\n",
      "93:\tlearn: 0.9007292\ttest: 3.4619919\tbest: 3.4619919 (93)\ttotal: 2m 1s\tremaining: 4m 26s\n",
      "94:\tlearn: 0.8868973\ttest: 3.4545959\tbest: 3.4545959 (94)\ttotal: 2m 2s\tremaining: 4m 24s\n",
      "95:\tlearn: 0.8703260\ttest: 3.4408366\tbest: 3.4408366 (95)\ttotal: 2m 3s\tremaining: 4m 23s\n",
      "96:\tlearn: 0.8527478\ttest: 3.4313932\tbest: 3.4313932 (96)\ttotal: 2m 4s\tremaining: 4m 21s\n",
      "97:\tlearn: 0.8410120\ttest: 3.4126450\tbest: 3.4126450 (97)\ttotal: 2m 6s\tremaining: 4m 19s\n",
      "98:\tlearn: 0.8243639\ttest: 3.3947113\tbest: 3.3947113 (98)\ttotal: 2m 7s\tremaining: 4m 18s\n",
      "99:\tlearn: 0.8103903\ttest: 3.3885841\tbest: 3.3885841 (99)\ttotal: 2m 8s\tremaining: 4m 16s\n",
      "100:\tlearn: 0.7959870\ttest: 3.3774628\tbest: 3.3774628 (100)\ttotal: 2m 9s\tremaining: 4m 15s\n",
      "101:\tlearn: 0.7798956\ttest: 3.3577209\tbest: 3.3577209 (101)\ttotal: 2m 10s\tremaining: 4m 13s\n",
      "102:\tlearn: 0.7665598\ttest: 3.3484248\tbest: 3.3484248 (102)\ttotal: 2m 11s\tremaining: 4m 12s\n",
      "103:\tlearn: 0.7521821\ttest: 3.3372706\tbest: 3.3372706 (103)\ttotal: 2m 12s\tremaining: 4m 10s\n",
      "104:\tlearn: 0.7400186\ttest: 3.3306249\tbest: 3.3306249 (104)\ttotal: 2m 14s\tremaining: 4m 8s\n",
      "105:\tlearn: 0.7261155\ttest: 3.3285919\tbest: 3.3285919 (105)\ttotal: 2m 15s\tremaining: 4m 7s\n",
      "106:\tlearn: 0.7106713\ttest: 3.3112956\tbest: 3.3112956 (106)\ttotal: 2m 16s\tremaining: 4m 5s\n",
      "107:\tlearn: 0.6970821\ttest: 3.2921288\tbest: 3.2921288 (107)\ttotal: 2m 17s\tremaining: 4m 4s\n",
      "108:\tlearn: 0.6822898\ttest: 3.2761701\tbest: 3.2761701 (108)\ttotal: 2m 18s\tremaining: 4m 2s\n",
      "109:\tlearn: 0.6719192\ttest: 3.2655561\tbest: 3.2655561 (109)\ttotal: 2m 19s\tremaining: 4m 1s\n",
      "110:\tlearn: 0.6604899\ttest: 3.2570684\tbest: 3.2570684 (110)\ttotal: 2m 20s\tremaining: 3m 59s\n",
      "111:\tlearn: 0.6468280\ttest: 3.2447955\tbest: 3.2447955 (111)\ttotal: 2m 21s\tremaining: 3m 58s\n",
      "112:\tlearn: 0.6359652\ttest: 3.2390330\tbest: 3.2390330 (112)\ttotal: 2m 23s\tremaining: 3m 56s\n",
      "113:\tlearn: 0.6251959\ttest: 3.2278397\tbest: 3.2278397 (113)\ttotal: 2m 24s\tremaining: 3m 55s\n",
      "114:\tlearn: 0.6135459\ttest: 3.2152222\tbest: 3.2152222 (114)\ttotal: 2m 25s\tremaining: 3m 53s\n",
      "115:\tlearn: 0.6039320\ttest: 3.2046316\tbest: 3.2046316 (115)\ttotal: 2m 26s\tremaining: 3m 52s\n",
      "116:\tlearn: 0.5924448\ttest: 3.2008077\tbest: 3.2008077 (116)\ttotal: 2m 27s\tremaining: 3m 50s\n",
      "117:\tlearn: 0.5815000\ttest: 3.1867198\tbest: 3.1867198 (117)\ttotal: 2m 28s\tremaining: 3m 49s\n",
      "118:\tlearn: 0.5731665\ttest: 3.1841410\tbest: 3.1841410 (118)\ttotal: 2m 29s\tremaining: 3m 47s\n",
      "119:\tlearn: 0.5627828\ttest: 3.1761716\tbest: 3.1761716 (119)\ttotal: 2m 30s\tremaining: 3m 46s\n",
      "120:\tlearn: 0.5550374\ttest: 3.1658747\tbest: 3.1658747 (120)\ttotal: 2m 31s\tremaining: 3m 44s\n",
      "121:\tlearn: 0.5455027\ttest: 3.1540136\tbest: 3.1540136 (121)\ttotal: 2m 32s\tremaining: 3m 42s\n",
      "122:\tlearn: 0.5350833\ttest: 3.1449567\tbest: 3.1449567 (122)\ttotal: 2m 34s\tremaining: 3m 41s\n",
      "123:\tlearn: 0.5266289\ttest: 3.1362966\tbest: 3.1362966 (123)\ttotal: 2m 35s\tremaining: 3m 40s\n",
      "124:\tlearn: 0.5196964\ttest: 3.1271144\tbest: 3.1271144 (124)\ttotal: 2m 36s\tremaining: 3m 38s\n",
      "125:\tlearn: 0.5100890\ttest: 3.1120583\tbest: 3.1120583 (125)\ttotal: 2m 37s\tremaining: 3m 37s\n",
      "126:\tlearn: 0.5021013\ttest: 3.1069194\tbest: 3.1069194 (126)\ttotal: 2m 38s\tremaining: 3m 35s\n",
      "127:\tlearn: 0.4933022\ttest: 3.0996305\tbest: 3.0996305 (127)\ttotal: 2m 39s\tremaining: 3m 34s\n",
      "128:\tlearn: 0.4846943\ttest: 3.0880168\tbest: 3.0880168 (128)\ttotal: 2m 40s\tremaining: 3m 32s\n",
      "129:\tlearn: 0.4783157\ttest: 3.0793622\tbest: 3.0793622 (129)\ttotal: 2m 41s\tremaining: 3m 31s\n",
      "130:\tlearn: 0.4693422\ttest: 3.0734500\tbest: 3.0734500 (130)\ttotal: 2m 42s\tremaining: 3m 30s\n",
      "131:\tlearn: 0.4625551\ttest: 3.0664800\tbest: 3.0664800 (131)\ttotal: 2m 43s\tremaining: 3m 28s\n",
      "132:\tlearn: 0.4569906\ttest: 3.0656219\tbest: 3.0656219 (132)\ttotal: 2m 45s\tremaining: 3m 27s\n",
      "133:\tlearn: 0.4498145\ttest: 3.0618118\tbest: 3.0618118 (133)\ttotal: 2m 46s\tremaining: 3m 25s\n",
      "134:\tlearn: 0.4418240\ttest: 3.0487012\tbest: 3.0487012 (134)\ttotal: 2m 47s\tremaining: 3m 24s\n",
      "135:\tlearn: 0.4380294\ttest: 3.0451864\tbest: 3.0451864 (135)\ttotal: 2m 48s\tremaining: 3m 22s\n",
      "136:\tlearn: 0.4318165\ttest: 3.0396632\tbest: 3.0396632 (136)\ttotal: 2m 49s\tremaining: 3m 21s\n",
      "137:\tlearn: 0.4240354\ttest: 3.0352351\tbest: 3.0352351 (137)\ttotal: 2m 50s\tremaining: 3m 20s\n",
      "138:\tlearn: 0.4188096\ttest: 3.0231252\tbest: 3.0231252 (138)\ttotal: 2m 51s\tremaining: 3m 18s\n",
      "139:\tlearn: 0.4119871\ttest: 3.0174611\tbest: 3.0174611 (139)\ttotal: 2m 52s\tremaining: 3m 17s\n",
      "140:\tlearn: 0.4075712\ttest: 3.0107613\tbest: 3.0107613 (140)\ttotal: 2m 53s\tremaining: 3m 16s\n",
      "141:\tlearn: 0.4008266\ttest: 3.0057027\tbest: 3.0057027 (141)\ttotal: 2m 54s\tremaining: 3m 14s\n",
      "142:\tlearn: 0.3948676\ttest: 3.0027046\tbest: 3.0027046 (142)\ttotal: 2m 55s\tremaining: 3m 13s\n",
      "143:\tlearn: 0.3887316\ttest: 2.9925824\tbest: 2.9925824 (143)\ttotal: 2m 57s\tremaining: 3m 11s\n",
      "144:\tlearn: 0.3828894\ttest: 2.9824903\tbest: 2.9824903 (144)\ttotal: 2m 58s\tremaining: 3m 10s\n",
      "145:\tlearn: 0.3765422\ttest: 2.9777758\tbest: 2.9777758 (145)\ttotal: 2m 59s\tremaining: 3m 9s\n",
      "146:\tlearn: 0.3715529\ttest: 2.9707843\tbest: 2.9707843 (146)\ttotal: 3m\tremaining: 3m 7s\n",
      "147:\tlearn: 0.3665649\ttest: 2.9673782\tbest: 2.9673782 (147)\ttotal: 3m 1s\tremaining: 3m 6s\n",
      "148:\tlearn: 0.3604531\ttest: 2.9581945\tbest: 2.9581945 (148)\ttotal: 3m 2s\tremaining: 3m 4s\n",
      "149:\tlearn: 0.3545811\ttest: 2.9548449\tbest: 2.9548449 (149)\ttotal: 3m 3s\tremaining: 3m 3s\n",
      "150:\tlearn: 0.3506110\ttest: 2.9581487\tbest: 2.9548449 (149)\ttotal: 3m 4s\tremaining: 3m 2s\n",
      "151:\tlearn: 0.3466603\ttest: 2.9565620\tbest: 2.9548449 (149)\ttotal: 3m 5s\tremaining: 3m\n",
      "152:\tlearn: 0.3410967\ttest: 2.9452164\tbest: 2.9452164 (152)\ttotal: 3m 6s\tremaining: 2m 59s\n",
      "153:\tlearn: 0.3361991\ttest: 2.9435928\tbest: 2.9435928 (153)\ttotal: 3m 7s\tremaining: 2m 58s\n",
      "154:\tlearn: 0.3324092\ttest: 2.9399058\tbest: 2.9399058 (154)\ttotal: 3m 8s\tremaining: 2m 56s\n",
      "155:\tlearn: 0.3300632\ttest: 2.9358665\tbest: 2.9358665 (155)\ttotal: 3m 9s\tremaining: 2m 55s\n",
      "156:\tlearn: 0.3262109\ttest: 2.9318021\tbest: 2.9318021 (156)\ttotal: 3m 11s\tremaining: 2m 53s\n",
      "157:\tlearn: 0.3220618\ttest: 2.9231084\tbest: 2.9231084 (157)\ttotal: 3m 12s\tremaining: 2m 52s\n",
      "158:\tlearn: 0.3172842\ttest: 2.9194244\tbest: 2.9194244 (158)\ttotal: 3m 13s\tremaining: 2m 51s\n",
      "159:\tlearn: 0.3124603\ttest: 2.9052312\tbest: 2.9052312 (159)\ttotal: 3m 14s\tremaining: 2m 50s\n",
      "160:\tlearn: 0.3079282\ttest: 2.9000417\tbest: 2.9000417 (160)\ttotal: 3m 15s\tremaining: 2m 48s\n",
      "161:\tlearn: 0.3032787\ttest: 2.8987747\tbest: 2.8987747 (161)\ttotal: 3m 16s\tremaining: 2m 47s\n",
      "162:\tlearn: 0.3002986\ttest: 2.8952772\tbest: 2.8952772 (162)\ttotal: 3m 17s\tremaining: 2m 46s\n",
      "163:\tlearn: 0.2980598\ttest: 2.8926895\tbest: 2.8926895 (163)\ttotal: 3m 18s\tremaining: 2m 44s\n",
      "164:\tlearn: 0.2947384\ttest: 2.8879130\tbest: 2.8879130 (164)\ttotal: 3m 19s\tremaining: 2m 43s\n",
      "165:\tlearn: 0.2920314\ttest: 2.8845144\tbest: 2.8845144 (165)\ttotal: 3m 20s\tremaining: 2m 42s\n",
      "166:\tlearn: 0.2878086\ttest: 2.8770421\tbest: 2.8770421 (166)\ttotal: 3m 21s\tremaining: 2m 40s\n",
      "167:\tlearn: 0.2836131\ttest: 2.8707405\tbest: 2.8707405 (167)\ttotal: 3m 23s\tremaining: 2m 39s\n",
      "168:\tlearn: 0.2795097\ttest: 2.8681885\tbest: 2.8681885 (168)\ttotal: 3m 24s\tremaining: 2m 38s\n",
      "169:\tlearn: 0.2755526\ttest: 2.8619222\tbest: 2.8619222 (169)\ttotal: 3m 25s\tremaining: 2m 36s\n",
      "170:\tlearn: 0.2726971\ttest: 2.8572141\tbest: 2.8572141 (170)\ttotal: 3m 26s\tremaining: 2m 35s\n",
      "171:\tlearn: 0.2687535\ttest: 2.8529121\tbest: 2.8529121 (171)\ttotal: 3m 27s\tremaining: 2m 34s\n",
      "172:\tlearn: 0.2649158\ttest: 2.8480103\tbest: 2.8480103 (172)\ttotal: 3m 29s\tremaining: 2m 33s\n",
      "173:\tlearn: 0.2616893\ttest: 2.8444964\tbest: 2.8444964 (173)\ttotal: 3m 30s\tremaining: 2m 32s\n",
      "174:\tlearn: 0.2581426\ttest: 2.8394908\tbest: 2.8394908 (174)\ttotal: 3m 31s\tremaining: 2m 30s\n",
      "175:\tlearn: 0.2552005\ttest: 2.8365481\tbest: 2.8365481 (175)\ttotal: 3m 32s\tremaining: 2m 29s\n",
      "176:\tlearn: 0.2524460\ttest: 2.8313812\tbest: 2.8313812 (176)\ttotal: 3m 33s\tremaining: 2m 28s\n",
      "177:\tlearn: 0.2490010\ttest: 2.8256653\tbest: 2.8256653 (177)\ttotal: 3m 34s\tremaining: 2m 27s\n",
      "178:\tlearn: 0.2466685\ttest: 2.8240784\tbest: 2.8240784 (178)\ttotal: 3m 35s\tremaining: 2m 25s\n",
      "179:\tlearn: 0.2435138\ttest: 2.8149684\tbest: 2.8149684 (179)\ttotal: 3m 36s\tremaining: 2m 24s\n",
      "180:\tlearn: 0.2404314\ttest: 2.8071462\tbest: 2.8071462 (180)\ttotal: 3m 37s\tremaining: 2m 23s\n",
      "181:\tlearn: 0.2371665\ttest: 2.8010885\tbest: 2.8010885 (181)\ttotal: 3m 39s\tremaining: 2m 22s\n",
      "182:\tlearn: 0.2341019\ttest: 2.7945058\tbest: 2.7945058 (182)\ttotal: 3m 40s\tremaining: 2m 20s\n",
      "183:\tlearn: 0.2310050\ttest: 2.7919454\tbest: 2.7919454 (183)\ttotal: 3m 41s\tremaining: 2m 19s\n",
      "184:\tlearn: 0.2280918\ttest: 2.7892288\tbest: 2.7892288 (184)\ttotal: 3m 42s\tremaining: 2m 18s\n",
      "185:\tlearn: 0.2252031\ttest: 2.7824900\tbest: 2.7824900 (185)\ttotal: 3m 43s\tremaining: 2m 16s\n",
      "186:\tlearn: 0.2227856\ttest: 2.7778308\tbest: 2.7778308 (186)\ttotal: 3m 44s\tremaining: 2m 15s\n",
      "187:\tlearn: 0.2200291\ttest: 2.7762812\tbest: 2.7762812 (187)\ttotal: 3m 45s\tremaining: 2m 14s\n",
      "188:\tlearn: 0.2173523\ttest: 2.7749334\tbest: 2.7749334 (188)\ttotal: 3m 46s\tremaining: 2m 13s\n",
      "189:\tlearn: 0.2157393\ttest: 2.7721797\tbest: 2.7721797 (189)\ttotal: 3m 47s\tremaining: 2m 11s\n",
      "190:\tlearn: 0.2130991\ttest: 2.7663386\tbest: 2.7663386 (190)\ttotal: 3m 48s\tremaining: 2m 10s\n",
      "191:\tlearn: 0.2103958\ttest: 2.7615618\tbest: 2.7615618 (191)\ttotal: 3m 50s\tremaining: 2m 9s\n",
      "192:\tlearn: 0.2079178\ttest: 2.7586126\tbest: 2.7586126 (192)\ttotal: 3m 51s\tremaining: 2m 8s\n",
      "193:\tlearn: 0.2053165\ttest: 2.7524648\tbest: 2.7524648 (193)\ttotal: 3m 52s\tremaining: 2m 7s\n",
      "194:\tlearn: 0.2031463\ttest: 2.7468216\tbest: 2.7468216 (194)\ttotal: 3m 53s\tremaining: 2m 5s\n",
      "195:\tlearn: 0.2013073\ttest: 2.7438634\tbest: 2.7438634 (195)\ttotal: 3m 54s\tremaining: 2m 4s\n",
      "196:\tlearn: 0.1990439\ttest: 2.7407761\tbest: 2.7407761 (196)\ttotal: 3m 55s\tremaining: 2m 3s\n",
      "197:\tlearn: 0.1968735\ttest: 2.7346392\tbest: 2.7346392 (197)\ttotal: 3m 56s\tremaining: 2m 2s\n",
      "198:\tlearn: 0.1949017\ttest: 2.7306229\tbest: 2.7306229 (198)\ttotal: 3m 58s\tremaining: 2m\n",
      "199:\tlearn: 0.1929000\ttest: 2.7255941\tbest: 2.7255941 (199)\ttotal: 3m 59s\tremaining: 1m 59s\n",
      "200:\tlearn: 0.1906895\ttest: 2.7202329\tbest: 2.7202329 (200)\ttotal: 4m\tremaining: 1m 58s\n",
      "201:\tlearn: 0.1885419\ttest: 2.7177622\tbest: 2.7177622 (201)\ttotal: 4m 1s\tremaining: 1m 57s\n",
      "202:\tlearn: 0.1864824\ttest: 2.7141731\tbest: 2.7141731 (202)\ttotal: 4m 2s\tremaining: 1m 55s\n",
      "203:\tlearn: 0.1843682\ttest: 2.7096385\tbest: 2.7096385 (203)\ttotal: 4m 3s\tremaining: 1m 54s\n",
      "204:\tlearn: 0.1824355\ttest: 2.7037142\tbest: 2.7037142 (204)\ttotal: 4m 4s\tremaining: 1m 53s\n",
      "205:\tlearn: 0.1805434\ttest: 2.7001391\tbest: 2.7001391 (205)\ttotal: 4m 5s\tremaining: 1m 52s\n",
      "206:\tlearn: 0.1786613\ttest: 2.6973999\tbest: 2.6973999 (206)\ttotal: 4m 7s\tremaining: 1m 50s\n",
      "207:\tlearn: 0.1770419\ttest: 2.6968798\tbest: 2.6968798 (207)\ttotal: 4m 8s\tremaining: 1m 49s\n",
      "208:\tlearn: 0.1751946\ttest: 2.6918935\tbest: 2.6918935 (208)\ttotal: 4m 9s\tremaining: 1m 48s\n",
      "209:\tlearn: 0.1733692\ttest: 2.6904887\tbest: 2.6904887 (209)\ttotal: 4m 10s\tremaining: 1m 47s\n",
      "210:\tlearn: 0.1714630\ttest: 2.6873528\tbest: 2.6873528 (210)\ttotal: 4m 11s\tremaining: 1m 46s\n",
      "211:\tlearn: 0.1695710\ttest: 2.6840538\tbest: 2.6840538 (211)\ttotal: 4m 12s\tremaining: 1m 44s\n",
      "212:\tlearn: 0.1677764\ttest: 2.6820216\tbest: 2.6820216 (212)\ttotal: 4m 14s\tremaining: 1m 43s\n",
      "213:\tlearn: 0.1660520\ttest: 2.6791417\tbest: 2.6791417 (213)\ttotal: 4m 15s\tremaining: 1m 42s\n",
      "214:\tlearn: 0.1643198\ttest: 2.6719091\tbest: 2.6719091 (214)\ttotal: 4m 16s\tremaining: 1m 41s\n",
      "215:\tlearn: 0.1626774\ttest: 2.6686401\tbest: 2.6686401 (215)\ttotal: 4m 17s\tremaining: 1m 40s\n",
      "216:\tlearn: 0.1614448\ttest: 2.6663030\tbest: 2.6663030 (216)\ttotal: 4m 18s\tremaining: 1m 38s\n",
      "217:\tlearn: 0.1598532\ttest: 2.6607091\tbest: 2.6607091 (217)\ttotal: 4m 19s\tremaining: 1m 37s\n",
      "218:\tlearn: 0.1584946\ttest: 2.6556371\tbest: 2.6556371 (218)\ttotal: 4m 20s\tremaining: 1m 36s\n",
      "219:\tlearn: 0.1570070\ttest: 2.6502523\tbest: 2.6502523 (219)\ttotal: 4m 22s\tremaining: 1m 35s\n",
      "220:\tlearn: 0.1555834\ttest: 2.6484510\tbest: 2.6484510 (220)\ttotal: 4m 23s\tremaining: 1m 34s\n",
      "221:\tlearn: 0.1540085\ttest: 2.6444748\tbest: 2.6444748 (221)\ttotal: 4m 24s\tremaining: 1m 32s\n",
      "222:\tlearn: 0.1525322\ttest: 2.6421176\tbest: 2.6421176 (222)\ttotal: 4m 25s\tremaining: 1m 31s\n",
      "223:\tlearn: 0.1512872\ttest: 2.6390798\tbest: 2.6390798 (223)\ttotal: 4m 26s\tremaining: 1m 30s\n",
      "224:\tlearn: 0.1497950\ttest: 2.6345716\tbest: 2.6345716 (224)\ttotal: 4m 27s\tremaining: 1m 29s\n",
      "225:\tlearn: 0.1484200\ttest: 2.6335439\tbest: 2.6335439 (225)\ttotal: 4m 28s\tremaining: 1m 28s\n",
      "226:\tlearn: 0.1470607\ttest: 2.6284986\tbest: 2.6284986 (226)\ttotal: 4m 29s\tremaining: 1m 26s\n",
      "227:\tlearn: 0.1459057\ttest: 2.6275113\tbest: 2.6275113 (227)\ttotal: 4m 31s\tremaining: 1m 25s\n",
      "228:\tlearn: 0.1447944\ttest: 2.6218074\tbest: 2.6218074 (228)\ttotal: 4m 32s\tremaining: 1m 24s\n",
      "229:\tlearn: 0.1434431\ttest: 2.6151390\tbest: 2.6151390 (229)\ttotal: 4m 33s\tremaining: 1m 23s\n",
      "230:\tlearn: 0.1422091\ttest: 2.6143280\tbest: 2.6143280 (230)\ttotal: 4m 34s\tremaining: 1m 21s\n",
      "231:\tlearn: 0.1412789\ttest: 2.6121244\tbest: 2.6121244 (231)\ttotal: 4m 35s\tremaining: 1m 20s\n",
      "232:\tlearn: 0.1401044\ttest: 2.6103648\tbest: 2.6103648 (232)\ttotal: 4m 36s\tremaining: 1m 19s\n",
      "233:\tlearn: 0.1390774\ttest: 2.6075292\tbest: 2.6075292 (233)\ttotal: 4m 37s\tremaining: 1m 18s\n",
      "234:\tlearn: 0.1381063\ttest: 2.6026047\tbest: 2.6026047 (234)\ttotal: 4m 38s\tremaining: 1m 17s\n",
      "235:\tlearn: 0.1368857\ttest: 2.6006559\tbest: 2.6006559 (235)\ttotal: 4m 39s\tremaining: 1m 15s\n",
      "236:\tlearn: 0.1358475\ttest: 2.6009247\tbest: 2.6006559 (235)\ttotal: 4m 40s\tremaining: 1m 14s\n",
      "237:\tlearn: 0.1346761\ttest: 2.6008090\tbest: 2.6006559 (235)\ttotal: 4m 41s\tremaining: 1m 13s\n",
      "238:\tlearn: 0.1337004\ttest: 2.5989052\tbest: 2.5989052 (238)\ttotal: 4m 43s\tremaining: 1m 12s\n",
      "239:\tlearn: 0.1329622\ttest: 2.5979724\tbest: 2.5979724 (239)\ttotal: 4m 44s\tremaining: 1m 11s\n",
      "240:\tlearn: 0.1319015\ttest: 2.5978299\tbest: 2.5978299 (240)\ttotal: 4m 45s\tremaining: 1m 9s\n",
      "241:\tlearn: 0.1307784\ttest: 2.5946309\tbest: 2.5946309 (241)\ttotal: 4m 46s\tremaining: 1m 8s\n",
      "242:\tlearn: 0.1296369\ttest: 2.5891581\tbest: 2.5891581 (242)\ttotal: 4m 47s\tremaining: 1m 7s\n",
      "243:\tlearn: 0.1287263\ttest: 2.5854040\tbest: 2.5854040 (243)\ttotal: 4m 48s\tremaining: 1m 6s\n",
      "244:\tlearn: 0.1276074\ttest: 2.5824097\tbest: 2.5824097 (244)\ttotal: 4m 49s\tremaining: 1m 5s\n",
      "245:\tlearn: 0.1265279\ttest: 2.5803019\tbest: 2.5803019 (245)\ttotal: 4m 50s\tremaining: 1m 3s\n",
      "246:\tlearn: 0.1257017\ttest: 2.5781031\tbest: 2.5781031 (246)\ttotal: 4m 51s\tremaining: 1m 2s\n",
      "247:\tlearn: 0.1246384\ttest: 2.5743144\tbest: 2.5743144 (247)\ttotal: 4m 53s\tremaining: 1m 1s\n",
      "248:\tlearn: 0.1235830\ttest: 2.5710983\tbest: 2.5710983 (248)\ttotal: 4m 54s\tremaining: 1m\n",
      "249:\tlearn: 0.1226734\ttest: 2.5685760\tbest: 2.5685760 (249)\ttotal: 4m 55s\tremaining: 59.1s\n",
      "250:\tlearn: 0.1216873\ttest: 2.5627749\tbest: 2.5627749 (250)\ttotal: 4m 56s\tremaining: 57.9s\n",
      "251:\tlearn: 0.1207624\ttest: 2.5604650\tbest: 2.5604650 (251)\ttotal: 4m 57s\tremaining: 56.7s\n",
      "252:\tlearn: 0.1197748\ttest: 2.5567001\tbest: 2.5567001 (252)\ttotal: 4m 58s\tremaining: 55.5s\n",
      "253:\tlearn: 0.1188709\ttest: 2.5522751\tbest: 2.5522751 (253)\ttotal: 4m 59s\tremaining: 54.3s\n",
      "254:\tlearn: 0.1182093\ttest: 2.5495618\tbest: 2.5495618 (254)\ttotal: 5m\tremaining: 53.1s\n",
      "255:\tlearn: 0.1174326\ttest: 2.5474543\tbest: 2.5474543 (255)\ttotal: 5m 2s\tremaining: 51.9s\n",
      "256:\tlearn: 0.1164967\ttest: 2.5437579\tbest: 2.5437579 (256)\ttotal: 5m 3s\tremaining: 50.7s\n",
      "257:\tlearn: 0.1159389\ttest: 2.5436483\tbest: 2.5436483 (257)\ttotal: 5m 4s\tremaining: 49.6s\n",
      "258:\tlearn: 0.1151440\ttest: 2.5400177\tbest: 2.5400177 (258)\ttotal: 5m 5s\tremaining: 48.4s\n",
      "259:\tlearn: 0.1143520\ttest: 2.5357119\tbest: 2.5357119 (259)\ttotal: 5m 6s\tremaining: 47.2s\n",
      "260:\tlearn: 0.1135108\ttest: 2.5356219\tbest: 2.5356219 (260)\ttotal: 5m 7s\tremaining: 46s\n",
      "261:\tlearn: 0.1129622\ttest: 2.5327922\tbest: 2.5327922 (261)\ttotal: 5m 8s\tremaining: 44.8s\n",
      "262:\tlearn: 0.1122684\ttest: 2.5336555\tbest: 2.5327922 (261)\ttotal: 5m 9s\tremaining: 43.6s\n",
      "263:\tlearn: 0.1114187\ttest: 2.5309291\tbest: 2.5309291 (263)\ttotal: 5m 10s\tremaining: 42.4s\n",
      "264:\tlearn: 0.1107954\ttest: 2.5280614\tbest: 2.5280614 (264)\ttotal: 5m 12s\tremaining: 41.3s\n",
      "265:\tlearn: 0.1100099\ttest: 2.5250799\tbest: 2.5250799 (265)\ttotal: 5m 15s\tremaining: 40.3s\n",
      "266:\tlearn: 0.1091868\ttest: 2.5226593\tbest: 2.5226593 (266)\ttotal: 5m 17s\tremaining: 39.3s\n",
      "267:\tlearn: 0.1083813\ttest: 2.5218791\tbest: 2.5218791 (267)\ttotal: 5m 20s\tremaining: 38.3s\n",
      "268:\tlearn: 0.1077584\ttest: 2.5200068\tbest: 2.5200068 (268)\ttotal: 5m 23s\tremaining: 37.2s\n",
      "269:\tlearn: 0.1069557\ttest: 2.5163676\tbest: 2.5163676 (269)\ttotal: 5m 25s\tremaining: 36.2s\n",
      "270:\tlearn: 0.1062898\ttest: 2.5125971\tbest: 2.5125971 (270)\ttotal: 5m 26s\tremaining: 34.9s\n",
      "271:\tlearn: 0.1055449\ttest: 2.5100169\tbest: 2.5100169 (271)\ttotal: 5m 27s\tremaining: 33.7s\n",
      "272:\tlearn: 0.1048197\ttest: 2.5061801\tbest: 2.5061801 (272)\ttotal: 5m 28s\tremaining: 32.5s\n",
      "273:\tlearn: 0.1042048\ttest: 2.5042010\tbest: 2.5042010 (273)\ttotal: 5m 29s\tremaining: 31.3s\n",
      "274:\tlearn: 0.1035214\ttest: 2.5016566\tbest: 2.5016566 (274)\ttotal: 5m 30s\tremaining: 30.1s\n",
      "275:\tlearn: 0.1029245\ttest: 2.4995392\tbest: 2.4995392 (275)\ttotal: 5m 32s\tremaining: 28.9s\n",
      "276:\tlearn: 0.1021868\ttest: 2.4970133\tbest: 2.4970133 (276)\ttotal: 5m 34s\tremaining: 27.8s\n",
      "277:\tlearn: 0.1014778\ttest: 2.4964457\tbest: 2.4964457 (277)\ttotal: 5m 37s\tremaining: 26.7s\n",
      "278:\tlearn: 0.1010127\ttest: 2.4948021\tbest: 2.4948021 (278)\ttotal: 5m 38s\tremaining: 25.5s\n",
      "279:\tlearn: 0.1005303\ttest: 2.4927968\tbest: 2.4927968 (279)\ttotal: 5m 40s\tremaining: 24.3s\n",
      "280:\tlearn: 0.0998295\ttest: 2.4913981\tbest: 2.4913981 (280)\ttotal: 5m 42s\tremaining: 23.2s\n",
      "281:\tlearn: 0.0992066\ttest: 2.4884183\tbest: 2.4884183 (281)\ttotal: 5m 44s\tremaining: 22s\n",
      "282:\tlearn: 0.0986053\ttest: 2.4854838\tbest: 2.4854838 (282)\ttotal: 5m 46s\tremaining: 20.8s\n",
      "283:\tlearn: 0.0979615\ttest: 2.4831693\tbest: 2.4831693 (283)\ttotal: 5m 47s\tremaining: 19.6s\n",
      "284:\tlearn: 0.0973415\ttest: 2.4804797\tbest: 2.4804797 (284)\ttotal: 5m 50s\tremaining: 18.4s\n",
      "285:\tlearn: 0.0967829\ttest: 2.4795830\tbest: 2.4795830 (285)\ttotal: 5m 52s\tremaining: 17.3s\n",
      "286:\tlearn: 0.0961815\ttest: 2.4767011\tbest: 2.4767011 (286)\ttotal: 5m 55s\tremaining: 16.1s\n",
      "287:\tlearn: 0.0956358\ttest: 2.4739070\tbest: 2.4739070 (287)\ttotal: 5m 57s\tremaining: 14.9s\n",
      "288:\tlearn: 0.0950924\ttest: 2.4721359\tbest: 2.4721359 (288)\ttotal: 6m\tremaining: 13.7s\n",
      "289:\tlearn: 0.0946056\ttest: 2.4681132\tbest: 2.4681132 (289)\ttotal: 6m 2s\tremaining: 12.5s\n",
      "290:\tlearn: 0.0939822\ttest: 2.4648636\tbest: 2.4648636 (290)\ttotal: 6m 5s\tremaining: 11.3s\n",
      "291:\tlearn: 0.0933801\ttest: 2.4642611\tbest: 2.4642611 (291)\ttotal: 6m 7s\tremaining: 10.1s\n",
      "292:\tlearn: 0.0927768\ttest: 2.4625615\tbest: 2.4625615 (292)\ttotal: 6m 10s\tremaining: 8.85s\n",
      "293:\tlearn: 0.0923576\ttest: 2.4605372\tbest: 2.4605372 (293)\ttotal: 6m 12s\tremaining: 7.6s\n",
      "294:\tlearn: 0.0917621\ttest: 2.4595634\tbest: 2.4595634 (294)\ttotal: 6m 13s\tremaining: 6.33s\n",
      "295:\tlearn: 0.0911821\ttest: 2.4556208\tbest: 2.4556208 (295)\ttotal: 6m 14s\tremaining: 5.06s\n",
      "296:\tlearn: 0.0906390\ttest: 2.4531431\tbest: 2.4531431 (296)\ttotal: 6m 15s\tremaining: 3.79s\n",
      "297:\tlearn: 0.0900808\ttest: 2.4503985\tbest: 2.4503985 (297)\ttotal: 6m 16s\tremaining: 2.53s\n",
      "298:\tlearn: 0.0895346\ttest: 2.4491837\tbest: 2.4491837 (298)\ttotal: 6m 18s\tremaining: 1.26s\n",
      "299:\tlearn: 0.0889600\ttest: 2.4474767\tbest: 2.4474767 (299)\ttotal: 6m 19s\tremaining: 0us\n",
      "bestTest = 2.447476705\n",
      "bestIteration = 299\n"
     ]
    },
    {
     "data": {
      "text/plain": "<catboost.core.CatBoostClassifier at 0x1c3b6fb2ce0>"
     },
     "execution_count": 25,
     "metadata": {},
     "output_type": "execute_result"
    }
   ],
   "source": [
    "params_cat = {\n",
    "    \"iterations\":300,\n",
    "    \"depth\":7,\n",
    "    #\"learning_rate\":0.1,\n",
    "    #\"eval_metric\":'F1',\n",
    "    \"loss_function\": \"MultiClass\",\n",
    "    \"random_seed\":1,\n",
    "    \"bootstrap_type\":'Bayesian',\n",
    "    \"bagging_temperature\":1,\n",
    "    \"od_type\":'Iter',\n",
    "    \"od_wait\":20,\n",
    "    \"task_type\":'GPU',\n",
    "}\n",
    "cat_model = CatBoostClassifier(**params_cat)\n",
    "cat_model.fit(\n",
    "    X_train, y_train,\n",
    "    eval_set=(X_test, y_test),\n",
    "    use_best_model=True,\n",
    "    verbose=True,\n",
    "    plot=True\n",
    " )"
   ],
   "metadata": {
    "collapsed": false,
    "ExecuteTime": {
     "end_time": "2024-03-29T17:14:29.140678900Z",
     "start_time": "2024-03-29T17:08:08.540374300Z"
    }
   }
  },
  {
   "cell_type": "code",
   "execution_count": 26,
   "outputs": [],
   "source": [
    "cat_model.save_model(\"catboost_blogger.cbm\")"
   ],
   "metadata": {
    "collapsed": false,
    "ExecuteTime": {
     "end_time": "2024-03-29T17:26:38.910177200Z",
     "start_time": "2024-03-29T17:26:38.604629500Z"
    }
   }
  }
 ],
 "metadata": {
  "kernelspec": {
   "display_name": "Python 3",
   "language": "python",
   "name": "python3"
  },
  "language_info": {
   "codemirror_mode": {
    "name": "ipython",
    "version": 2
   },
   "file_extension": ".py",
   "mimetype": "text/x-python",
   "name": "python",
   "nbconvert_exporter": "python",
   "pygments_lexer": "ipython2",
   "version": "2.7.6"
  }
 },
 "nbformat": 4,
 "nbformat_minor": 0
}
