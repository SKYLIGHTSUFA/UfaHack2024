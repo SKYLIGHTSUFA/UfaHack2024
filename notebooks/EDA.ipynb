{
 "cells": [
  {
   "cell_type": "code",
   "execution_count": 1,
   "outputs": [],
   "source": [
    "import pandas as pd"
   ],
   "metadata": {
    "collapsed": false,
    "ExecuteTime": {
     "end_time": "2024-03-29T06:28:51.733973600Z",
     "start_time": "2024-03-29T06:28:51.165303900Z"
    }
   }
  },
  {
   "cell_type": "code",
   "execution_count": 10,
   "outputs": [
    {
     "data": {
      "text/plain": "         id             name                                   link  \\\n0     17505   Стефен Ананикз  https://www.kinopoisk.ru/name/1114998   \n1     22644    Стикки Фингаз     https://www.kinopoisk.ru/name/6730   \n2     48531  Теодора Ричардс  https://www.kinopoisk.ru/name/1874602   \n3      4829    Коуди Роджерс  https://www.kinopoisk.ru/name/2859797   \n4     41086       Joe Ariola  https://www.kinopoisk.ru/name/6541368   \n...     ...              ...                                    ...   \n6044   7416  Кери Линн Прэтт    https://www.kinopoisk.ru/name/16713   \n6045   9894   Уильям Фихтнер    https://www.kinopoisk.ru/name/13096   \n6046   7419  Питер Сарсгаард    https://www.kinopoisk.ru/name/32953   \n6047   9900        Лили Лабё  https://www.kinopoisk.ru/name/2533068   \n6048   9908   Джош Карпентер  https://www.kinopoisk.ru/name/1500397   \n\n                                         specialization       films_years  \\\n0                     Продюсер,Режиссер,Актер,Сценарист    8, 2006 — 2019   \n1     Актер,Композитор,Сценарист,Режиссер,Продюсер,М...  104, 1992 — 2024   \n2                                               Актриса    3, 2013 — 2014   \n3                     Режиссер,Продюсер,Актер,Сценарист   12, 2012 — 2018   \n4                                                 Актер   10, 1999 — 2024   \n...                                                 ...               ...   \n6044                                            Актриса   47, 1994 — 2014   \n6045                  Актер,Продюсер,Режиссер,Сценарист  107, 1956 — 2024   \n6046                                     Актер,Продюсер  114, 1975 — 2024   \n6047                                  Актриса,Сценарист  121, 1998 — 2020   \n6048                                     Актер,Продюсер    9, 1992 — 2017   \n\n                                            description    path_to_folder  \n0                                                   NaN  actors_usa/17505  \n1               Там,Щит,Однажды ночью,Напарницы,Империя  actors_usa/22644  \n2                                                   NaN  actors_usa/48531  \n3                                                   NaN   actors_usa/4829  \n4                                         WWE SmackDown  actors_usa/41086  \n...                                                 ...               ...  \n6044  Одинокий мужчина,Доктор Хаус,Скорая помощь,Мыс...   actors_usa/7416  \n6045  Чёрный ястреб,Всё или ничего,Идеальный шторм,Э...   actors_usa/9894  \n6046  К-19,Воспитание чувств,Парни не плачут,Ключ от...   actors_usa/7419  \n6047                                                NaN   actors_usa/9900  \n6048                                                NaN   actors_usa/9908  \n\n[6049 rows x 7 columns]",
      "text/html": "<div>\n<style scoped>\n    .dataframe tbody tr th:only-of-type {\n        vertical-align: middle;\n    }\n\n    .dataframe tbody tr th {\n        vertical-align: top;\n    }\n\n    .dataframe thead th {\n        text-align: right;\n    }\n</style>\n<table border=\"1\" class=\"dataframe\">\n  <thead>\n    <tr style=\"text-align: right;\">\n      <th></th>\n      <th>id</th>\n      <th>name</th>\n      <th>link</th>\n      <th>specialization</th>\n      <th>films_years</th>\n      <th>description</th>\n      <th>path_to_folder</th>\n    </tr>\n  </thead>\n  <tbody>\n    <tr>\n      <th>0</th>\n      <td>17505</td>\n      <td>Стефен Ананикз</td>\n      <td>https://www.kinopoisk.ru/name/1114998</td>\n      <td>Продюсер,Режиссер,Актер,Сценарист</td>\n      <td>8, 2006 — 2019</td>\n      <td>NaN</td>\n      <td>actors_usa/17505</td>\n    </tr>\n    <tr>\n      <th>1</th>\n      <td>22644</td>\n      <td>Стикки Фингаз</td>\n      <td>https://www.kinopoisk.ru/name/6730</td>\n      <td>Актер,Композитор,Сценарист,Режиссер,Продюсер,М...</td>\n      <td>104, 1992 — 2024</td>\n      <td>Там,Щит,Однажды ночью,Напарницы,Империя</td>\n      <td>actors_usa/22644</td>\n    </tr>\n    <tr>\n      <th>2</th>\n      <td>48531</td>\n      <td>Теодора Ричардс</td>\n      <td>https://www.kinopoisk.ru/name/1874602</td>\n      <td>Актриса</td>\n      <td>3, 2013 — 2014</td>\n      <td>NaN</td>\n      <td>actors_usa/48531</td>\n    </tr>\n    <tr>\n      <th>3</th>\n      <td>4829</td>\n      <td>Коуди Роджерс</td>\n      <td>https://www.kinopoisk.ru/name/2859797</td>\n      <td>Режиссер,Продюсер,Актер,Сценарист</td>\n      <td>12, 2012 — 2018</td>\n      <td>NaN</td>\n      <td>actors_usa/4829</td>\n    </tr>\n    <tr>\n      <th>4</th>\n      <td>41086</td>\n      <td>Joe Ariola</td>\n      <td>https://www.kinopoisk.ru/name/6541368</td>\n      <td>Актер</td>\n      <td>10, 1999 — 2024</td>\n      <td>WWE SmackDown</td>\n      <td>actors_usa/41086</td>\n    </tr>\n    <tr>\n      <th>...</th>\n      <td>...</td>\n      <td>...</td>\n      <td>...</td>\n      <td>...</td>\n      <td>...</td>\n      <td>...</td>\n      <td>...</td>\n    </tr>\n    <tr>\n      <th>6044</th>\n      <td>7416</td>\n      <td>Кери Линн Прэтт</td>\n      <td>https://www.kinopoisk.ru/name/16713</td>\n      <td>Актриса</td>\n      <td>47, 1994 — 2014</td>\n      <td>Одинокий мужчина,Доктор Хаус,Скорая помощь,Мыс...</td>\n      <td>actors_usa/7416</td>\n    </tr>\n    <tr>\n      <th>6045</th>\n      <td>9894</td>\n      <td>Уильям Фихтнер</td>\n      <td>https://www.kinopoisk.ru/name/13096</td>\n      <td>Актер,Продюсер,Режиссер,Сценарист</td>\n      <td>107, 1956 — 2024</td>\n      <td>Чёрный ястреб,Всё или ничего,Идеальный шторм,Э...</td>\n      <td>actors_usa/9894</td>\n    </tr>\n    <tr>\n      <th>6046</th>\n      <td>7419</td>\n      <td>Питер Сарсгаард</td>\n      <td>https://www.kinopoisk.ru/name/32953</td>\n      <td>Актер,Продюсер</td>\n      <td>114, 1975 — 2024</td>\n      <td>К-19,Воспитание чувств,Парни не плачут,Ключ от...</td>\n      <td>actors_usa/7419</td>\n    </tr>\n    <tr>\n      <th>6047</th>\n      <td>9900</td>\n      <td>Лили Лабё</td>\n      <td>https://www.kinopoisk.ru/name/2533068</td>\n      <td>Актриса,Сценарист</td>\n      <td>121, 1998 — 2020</td>\n      <td>NaN</td>\n      <td>actors_usa/9900</td>\n    </tr>\n    <tr>\n      <th>6048</th>\n      <td>9908</td>\n      <td>Джош Карпентер</td>\n      <td>https://www.kinopoisk.ru/name/1500397</td>\n      <td>Актер,Продюсер</td>\n      <td>9, 1992 — 2017</td>\n      <td>NaN</td>\n      <td>actors_usa/9908</td>\n    </tr>\n  </tbody>\n</table>\n<p>6049 rows × 7 columns</p>\n</div>"
     },
     "execution_count": 10,
     "metadata": {},
     "output_type": "execute_result"
    }
   ],
   "source": [
    "data = pd.read_csv(\"../data/usa.csv\", delimiter=\";\")\n",
    "data"
   ],
   "metadata": {
    "collapsed": false,
    "ExecuteTime": {
     "end_time": "2024-03-29T06:36:41.472967600Z",
     "start_time": "2024-03-29T06:36:41.378668700Z"
    }
   }
  },
  {
   "cell_type": "code",
   "execution_count": 32,
   "outputs": [],
   "source": [
    "columns = data.columns"
   ],
   "metadata": {
    "collapsed": false,
    "ExecuteTime": {
     "end_time": "2024-03-29T06:45:12.437750900Z",
     "start_time": "2024-03-29T06:45:12.414952700Z"
    }
   }
  },
  {
   "cell_type": "code",
   "execution_count": 62,
   "outputs": [
    {
     "name": "stderr",
     "output_type": "stream",
     "text": [
      "C:\\Users\\fatik\\AppData\\Local\\Temp\\ipykernel_12208\\3238385593.py:3: FutureWarning: Series.__getitem__ treating keys as positions is deprecated. In a future version, integer keys will always be treated as labels (consistent with DataFrame behavior). To access a value by position, use `ser.iloc[pos]`\n",
      "  dicter[x.id] = x[1]\n"
     ]
    },
    {
     "data": {
      "text/plain": "'Стефен Ананикз'"
     },
     "execution_count": 62,
     "metadata": {},
     "output_type": "execute_result"
    }
   ],
   "source": [
    "dicter = {}\n",
    "def get_dict(x):\n",
    "    dicter[x.id] = x[1]\n",
    "data[\"json\"] = data.apply(lambda x: get_dict(x), axis=1)\n",
    "import pickle\n",
    "\n",
    "with open('saved_dictionary.pkl', 'wb') as f:\n",
    "    pickle.dump(dicter, f)\n",
    "with open('saved_dictionary.pkl', 'rb') as f:\n",
    "    loaded_dict = pickle.load(f)"
   ],
   "metadata": {
    "collapsed": false,
    "ExecuteTime": {
     "end_time": "2024-03-29T06:54:05.064292600Z",
     "start_time": "2024-03-29T06:54:04.924879400Z"
    }
   }
  },
  {
   "cell_type": "code",
   "execution_count": null,
   "outputs": [],
   "source": [],
   "metadata": {
    "collapsed": false
   }
  },
  {
   "cell_type": "code",
   "execution_count": null,
   "outputs": [],
   "source": [],
   "metadata": {
    "collapsed": false
   }
  },
  {
   "cell_type": "code",
   "execution_count": null,
   "outputs": [],
   "source": [],
   "metadata": {
    "collapsed": false
   }
  },
  {
   "cell_type": "code",
   "execution_count": null,
   "outputs": [],
   "source": [],
   "metadata": {
    "collapsed": false
   }
  },
  {
   "cell_type": "code",
   "execution_count": null,
   "outputs": [],
   "source": [],
   "metadata": {
    "collapsed": false
   }
  },
  {
   "cell_type": "code",
   "execution_count": null,
   "outputs": [],
   "source": [],
   "metadata": {
    "collapsed": false
   }
  },
  {
   "cell_type": "code",
   "execution_count": null,
   "outputs": [],
   "source": [],
   "metadata": {
    "collapsed": false
   }
  },
  {
   "cell_type": "code",
   "execution_count": null,
   "outputs": [],
   "source": [],
   "metadata": {
    "collapsed": false
   }
  },
  {
   "cell_type": "code",
   "execution_count": null,
   "outputs": [],
   "source": [],
   "metadata": {
    "collapsed": false
   }
  },
  {
   "cell_type": "code",
   "execution_count": null,
   "outputs": [],
   "source": [],
   "metadata": {
    "collapsed": false
   }
  },
  {
   "cell_type": "code",
   "execution_count": null,
   "outputs": [],
   "source": [],
   "metadata": {
    "collapsed": false
   }
  },
  {
   "cell_type": "code",
   "execution_count": null,
   "outputs": [],
   "source": [],
   "metadata": {
    "collapsed": false
   }
  },
  {
   "cell_type": "code",
   "execution_count": null,
   "outputs": [],
   "source": [],
   "metadata": {
    "collapsed": false
   }
  },
  {
   "cell_type": "code",
   "execution_count": null,
   "outputs": [],
   "source": [],
   "metadata": {
    "collapsed": false
   }
  },
  {
   "cell_type": "code",
   "execution_count": null,
   "outputs": [],
   "source": [],
   "metadata": {
    "collapsed": false
   }
  },
  {
   "cell_type": "code",
   "execution_count": null,
   "outputs": [],
   "source": [],
   "metadata": {
    "collapsed": false
   }
  },
  {
   "cell_type": "code",
   "execution_count": null,
   "outputs": [],
   "source": [],
   "metadata": {
    "collapsed": false
   }
  },
  {
   "cell_type": "code",
   "execution_count": null,
   "outputs": [],
   "source": [],
   "metadata": {
    "collapsed": false
   }
  },
  {
   "cell_type": "code",
   "execution_count": null,
   "outputs": [],
   "source": [],
   "metadata": {
    "collapsed": false
   }
  },
  {
   "cell_type": "code",
   "execution_count": null,
   "outputs": [],
   "source": [],
   "metadata": {
    "collapsed": false
   }
  },
  {
   "cell_type": "code",
   "execution_count": null,
   "outputs": [],
   "source": [],
   "metadata": {
    "collapsed": false
   }
  },
  {
   "cell_type": "code",
   "execution_count": null,
   "outputs": [],
   "source": [],
   "metadata": {
    "collapsed": false
   }
  },
  {
   "cell_type": "code",
   "execution_count": null,
   "outputs": [],
   "source": [],
   "metadata": {
    "collapsed": false
   }
  },
  {
   "cell_type": "code",
   "execution_count": null,
   "outputs": [],
   "source": [],
   "metadata": {
    "collapsed": false
   }
  },
  {
   "cell_type": "code",
   "execution_count": null,
   "outputs": [],
   "source": [],
   "metadata": {
    "collapsed": false
   }
  },
  {
   "cell_type": "code",
   "execution_count": null,
   "outputs": [],
   "source": [],
   "metadata": {
    "collapsed": false
   }
  },
  {
   "cell_type": "code",
   "execution_count": null,
   "outputs": [],
   "source": [],
   "metadata": {
    "collapsed": false
   }
  },
  {
   "cell_type": "code",
   "execution_count": null,
   "outputs": [],
   "source": [],
   "metadata": {
    "collapsed": false
   }
  },
  {
   "cell_type": "code",
   "execution_count": null,
   "outputs": [],
   "source": [],
   "metadata": {
    "collapsed": false
   }
  },
  {
   "cell_type": "code",
   "execution_count": null,
   "outputs": [],
   "source": [],
   "metadata": {
    "collapsed": false
   }
  },
  {
   "cell_type": "code",
   "execution_count": null,
   "outputs": [],
   "source": [],
   "metadata": {
    "collapsed": false
   }
  },
  {
   "cell_type": "code",
   "execution_count": null,
   "outputs": [],
   "source": [],
   "metadata": {
    "collapsed": false
   }
  },
  {
   "cell_type": "code",
   "execution_count": null,
   "outputs": [],
   "source": [],
   "metadata": {
    "collapsed": false
   }
  },
  {
   "cell_type": "code",
   "execution_count": null,
   "outputs": [],
   "source": [],
   "metadata": {
    "collapsed": false
   }
  },
  {
   "cell_type": "code",
   "execution_count": null,
   "outputs": [],
   "source": [],
   "metadata": {
    "collapsed": false
   }
  },
  {
   "cell_type": "code",
   "execution_count": null,
   "outputs": [],
   "source": [],
   "metadata": {
    "collapsed": false
   }
  },
  {
   "cell_type": "code",
   "execution_count": null,
   "outputs": [],
   "source": [],
   "metadata": {
    "collapsed": false
   }
  },
  {
   "cell_type": "code",
   "execution_count": null,
   "outputs": [],
   "source": [],
   "metadata": {
    "collapsed": false
   }
  },
  {
   "cell_type": "code",
   "execution_count": null,
   "outputs": [],
   "source": [],
   "metadata": {
    "collapsed": false
   }
  },
  {
   "cell_type": "code",
   "execution_count": null,
   "outputs": [],
   "source": [],
   "metadata": {
    "collapsed": false
   }
  },
  {
   "cell_type": "code",
   "execution_count": null,
   "metadata": {
    "collapsed": true
   },
   "outputs": [],
   "source": []
  }
 ],
 "metadata": {
  "kernelspec": {
   "display_name": "Python 3",
   "language": "python",
   "name": "python3"
  },
  "language_info": {
   "codemirror_mode": {
    "name": "ipython",
    "version": 2
   },
   "file_extension": ".py",
   "mimetype": "text/x-python",
   "name": "python",
   "nbconvert_exporter": "python",
   "pygments_lexer": "ipython2",
   "version": "2.7.6"
  }
 },
 "nbformat": 4,
 "nbformat_minor": 0
}
